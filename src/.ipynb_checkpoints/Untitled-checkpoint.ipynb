{
 "cells": [
  {
   "cell_type": "code",
   "execution_count": 67,
   "id": "1688d18d",
   "metadata": {},
   "outputs": [],
   "source": [
    "import numpy as np\n",
    "\n",
    "import tensorflow as tf\n",
    "\n",
    "from tensorflow.keras import Model\n",
    "from tensorflow.keras.layers import Layer, ReLU, Conv2D, MaxPooling2D, GlobalMaxPooling2D, UpSampling2D, Concatenate"
   ]
  },
  {
   "cell_type": "markdown",
   "id": "e44cde09",
   "metadata": {},
   "source": [
    "### VGGish model TF2 implementation"
   ]
  },
  {
   "cell_type": "code",
   "execution_count": 47,
   "id": "76bdfa99",
   "metadata": {},
   "outputs": [
    {
     "name": "stdout",
     "output_type": "stream",
     "text": [
      "WARNING:tensorflow:Detecting that an object or model or tf.train.Checkpoint is being deleted with unrestored values. See the following logs for the specific values in question. To silence these warnings, use `status.expect_partial()`. See https://www.tensorflow.org/api_docs/python/tf/train/Checkpoint#restorefor details about the status object returned by the restore function.\n",
      "WARNING:tensorflow:Value in checkpoint could not be found in the restored object: (root).conv2d_1.kernel\n",
      "WARNING:tensorflow:Value in checkpoint could not be found in the restored object: (root).conv2d_1.bias\n",
      "WARNING:tensorflow:Value in checkpoint could not be found in the restored object: (root).conv2d_2.kernel\n",
      "WARNING:tensorflow:Value in checkpoint could not be found in the restored object: (root).conv2d_2.bias\n",
      "WARNING:tensorflow:Value in checkpoint could not be found in the restored object: (root).conv2d_3_1.kernel\n",
      "WARNING:tensorflow:Value in checkpoint could not be found in the restored object: (root).conv2d_3_1.bias\n",
      "WARNING:tensorflow:Value in checkpoint could not be found in the restored object: (root).conv2d_3_2.kernel\n",
      "WARNING:tensorflow:Value in checkpoint could not be found in the restored object: (root).conv2d_3_2.bias\n",
      "WARNING:tensorflow:Value in checkpoint could not be found in the restored object: (root).conv2d_4_1.kernel\n",
      "WARNING:tensorflow:Value in checkpoint could not be found in the restored object: (root).conv2d_4_1.bias\n",
      "WARNING:tensorflow:Value in checkpoint could not be found in the restored object: (root).conv2d_4_2.kernel\n",
      "WARNING:tensorflow:Value in checkpoint could not be found in the restored object: (root).conv2d_4_2.bias\n"
     ]
    }
   ],
   "source": [
    "class VGGish(Model):\n",
    "    def __init__(self):\n",
    "        super().__init__()\n",
    "        self._name = 'VGGish'\n",
    "        self.trainable = False\n",
    "        \n",
    "        # Block 1\n",
    "        self.conv2d_1 = Conv2D(64, (3, 3), strides=(1, 1), activation='relu', padding='same', name='conv1')\n",
    "        self.pool_1 = MaxPooling2D((2, 2), strides=(2, 2), padding='same', name='pool1')\n",
    "        \n",
    "        # Block 2\n",
    "        self.conv2d_2 = Conv2D(128, (3, 3), strides=(1, 1), activation='relu', padding='same', name='conv2')\n",
    "        self.pool_2 = MaxPooling2D((2, 2), strides=(2, 2), padding='same', name='pool2')\n",
    "\n",
    "        # Block 3\n",
    "        self.conv2d_3_1 = Conv2D(256, (3, 3), strides=(1, 1), activation='relu', padding='same', name='conv3/conv3_1')\n",
    "        self.conv2d_3_2 = Conv2D(256, (3, 3), strides=(1, 1), activation='relu', padding='same', name='conv3/conv3_1')\n",
    "        self.pool_3 = MaxPooling2D((2, 2), strides=(2, 2), padding='same', name='pool3')\n",
    "\n",
    "        # Block 4\n",
    "        self.conv2d_4_1 = Conv2D(512, (3, 3), strides=(1, 1), activation='relu', padding='same', name='conv4/conv4_1')\n",
    "        self.conv2d_4_2 = Conv2D(512, (3, 3), strides=(1, 1), activation='relu', padding='same', name='conv4/conv4_2')\n",
    "        self.pool_4 = MaxPooling2D((2, 2), strides=(2, 2), padding='same', name='pool4')\n",
    "        \n",
    "        self.global_pool = GlobalMaxPooling2D()\n",
    "        \n",
    "        self.load_weights('../weights/vggish')\n",
    "        \n",
    "    def call(self, inputs):\n",
    "        skips = {\n",
    "            'block1': None,\n",
    "            'block2': None,\n",
    "            'block3': None,\n",
    "            'block4': None\n",
    "        }\n",
    "        \n",
    "        x = self.conv2d_1(inputs)\n",
    "        x = self.pool_1(x)\n",
    "        skips['block1'] = x\n",
    "        \n",
    "        x = self.conv2d_2(x)\n",
    "        x = self.pool_2(x)\n",
    "        skips['block2'] = x\n",
    "        \n",
    "        x = self.conv2d_3_1(x)\n",
    "        x = self.conv2d_3_2(x)\n",
    "        x = self.pool_3(x)\n",
    "        skips['block3'] = x\n",
    "        \n",
    "        x = self.conv2d_4_1(x)\n",
    "        x = self.conv2d_4_2(x)\n",
    "        x = self.pool_4(x)\n",
    "        skips['block4'] = x\n",
    "        \n",
    "        x = self.global_pool(x)\n",
    "        \n",
    "        return x, skips\n",
    "    \n",
    "    \n",
    "vgg = VGGish()"
   ]
  },
  {
   "cell_type": "code",
   "execution_count": 49,
   "id": "650e20ef",
   "metadata": {},
   "outputs": [],
   "source": [
    "class IMuseDecoder(Model):\n",
    "     def __init__(self):\n",
    "        super().__init__()\n",
    "        self._name = 'IMuseDecoder'\n",
    "\n",
    "class IMuse(Model):\n",
    "    def __init__(self):\n",
    "        super().__init__()\n",
    "        self._name = 'IMuse'\n",
    "        \n",
    "        self.encoder = VGGish()\n",
    "        "
   ]
  },
  {
   "cell_type": "code",
   "execution_count": 66,
   "id": "defdd60b",
   "metadata": {},
   "outputs": [
    {
     "data": {
      "text/plain": [
       "<tf.Tensor: shape=(1, 300, 64), dtype=float32, numpy=\n",
       "array([[[0., 0., 0., ..., 0., 0., 0.],\n",
       "        [0., 0., 0., ..., 0., 0., 0.],\n",
       "        [0., 0., 0., ..., 0., 0., 0.],\n",
       "        ...,\n",
       "        [0., 0., 0., ..., 0., 0., 0.],\n",
       "        [0., 0., 0., ..., 0., 0., 0.],\n",
       "        [0., 0., 0., ..., 0., 0., 0.]]], dtype=float32)>"
      ]
     },
     "execution_count": 66,
     "metadata": {},
     "output_type": "execute_result"
    }
   ],
   "source": [
    "Concatenate(1)([tf.zeros((1, 200, 64)), tf.zeros((1, 100, 64))])"
   ]
  }
 ],
 "metadata": {
  "kernelspec": {
   "display_name": "Python 3 (ipykernel)",
   "language": "python",
   "name": "python3"
  },
  "language_info": {
   "codemirror_mode": {
    "name": "ipython",
    "version": 3
   },
   "file_extension": ".py",
   "mimetype": "text/x-python",
   "name": "python",
   "nbconvert_exporter": "python",
   "pygments_lexer": "ipython3",
   "version": "3.8.8"
  }
 },
 "nbformat": 4,
 "nbformat_minor": 5
}

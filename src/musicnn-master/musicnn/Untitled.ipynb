{
 "cells": [
  {
   "cell_type": "code",
   "execution_count": 5,
   "id": "283250d7",
   "metadata": {},
   "outputs": [],
   "source": [
    "import tensorflow as tf\n",
    "\n",
    "from tensorflow.keras.models import Sequential\n",
    "from tensorflow.keras.layers import Input, Conv2D, MaxPool2D"
   ]
  },
  {
   "cell_type": "code",
   "execution_count": 6,
   "id": "c7e76fd5",
   "metadata": {},
   "outputs": [],
   "source": [
    "music_vgg = Sequential([\n",
    "    Input((None, None, 3)),\n",
    "    Conv2D()\n",
    "])"
   ]
  },
  {
   "cell_type": "code",
   "execution_count": null,
   "id": "02763fe5",
   "metadata": {},
   "outputs": [],
   "source": [
    "input_layer = tf.expand_dims(x, 3)\n",
    "bn_input = tf.compat.v1.layers.batch_normalization(input_layer, training=is_training)\n",
    "\n",
    "conv1 = tf.compat.v1.layers.conv2d(inputs=bn_input,\n",
    "                         filters=num_filters,\n",
    "                         kernel_size=[3, 3],\n",
    "                         padding='same',\n",
    "                         activation=tf.nn.relu,\n",
    "                         name='1CNN')\n",
    "bn_conv1 = tf.compat.v1.layers.batch_normalization(conv1, training=is_training)\n",
    "pool1 = tf.compat.v1.layers.max_pooling2d(inputs=bn_conv1, pool_size=[4, 1], strides=[2, 2])\n",
    "\n",
    "do_pool1 = tf.compat.v1.layers.dropout(pool1, rate=0.25, training=is_training)\n",
    "conv2 = tf.compat.v1.layers.conv2d(inputs=do_pool1,\n",
    "                         filters=num_filters,\n",
    "                         kernel_size=[3, 3],\n",
    "                         padding='same',\n",
    "                         activation=tf.nn.relu,\n",
    "                         name='2CNN')\n",
    "bn_conv2 = tf.compat.v1.layers.batch_normalization(conv2, training=is_training)\n",
    "pool2 = tf.compat.v1.layers.max_pooling2d(inputs=bn_conv2, pool_size=[2, 2], strides=[2, 2])\n",
    "\n",
    "do_pool2 = tf.compat.v1.layers.dropout(pool2, rate=0.25, training=is_training)\n",
    "conv3 = tf.compat.v1.layers.conv2d(inputs=do_pool2,\n",
    "                         filters=num_filters,\n",
    "                         kernel_size=[3, 3],\n",
    "                         padding='same',\n",
    "                         activation=tf.nn.relu,\n",
    "                         name='3CNN')\n",
    "bn_conv3 = tf.compat.v1.layers.batch_normalization(conv3, training=is_training)\n",
    "pool3 = tf.compat.v1.layers.max_pooling2d(inputs=bn_conv3, pool_size=[2, 2], strides=[2, 2])\n",
    "\n",
    "do_pool3 = tf.compat.v1.layers.dropout(pool3, rate=0.25, training=is_training)\n",
    "conv4 = tf.compat.v1.layers.conv2d(inputs=do_pool3,\n",
    "                         filters=num_filters,\n",
    "                         kernel_size=[3, 3],\n",
    "                         padding='same',\n",
    "                         activation=tf.nn.relu,\n",
    "                         name='4CNN')\n",
    "bn_conv4 = tf.compat.v1.layers.batch_normalization(conv4, training=is_training)\n",
    "pool4 = tf.compat.v1.layers.max_pooling2d(inputs=bn_conv4, pool_size=[2, 2], strides=[2, 2])\n",
    "\n",
    "do_pool4 = tf.compat.v1.layers.dropout(pool4, rate=0.25, training=is_training)\n",
    "conv5 = tf.compat.v1.layers.conv2d(inputs=do_pool4, \n",
    "                         filters=num_filters, \n",
    "                         kernel_size=[3, 3], \n",
    "                         padding='same', \n",
    "                         activation=tf.nn.relu,\n",
    "                         name='5CNN')\n",
    "bn_conv5 = tf.compat.v1.layers.batch_normalization(conv5, training=is_training)\n",
    "pool5 = tf.compat.v1.layers.max_pooling2d(inputs=bn_conv5, pool_size=[4, 4], strides=[4, 4])\n",
    "\n",
    "flat_pool5 = tf.compat.v1.layers.flatten(pool5)\n",
    "do_pool5 = tf.compat.v1.layers.dropout(flat_pool5, rate=0.5, training=is_training)\n",
    "output = tf.compat.v1.layers.dense(inputs=do_pool5,\n",
    "                        activation=None,\n",
    "                        units=num_classes)"
   ]
  }
 ],
 "metadata": {
  "kernelspec": {
   "display_name": "Python 3 (ipykernel)",
   "language": "python",
   "name": "python3"
  },
  "language_info": {
   "codemirror_mode": {
    "name": "ipython",
    "version": 3
   },
   "file_extension": ".py",
   "mimetype": "text/x-python",
   "name": "python",
   "nbconvert_exporter": "python",
   "pygments_lexer": "ipython3",
   "version": "3.8.8"
  }
 },
 "nbformat": 4,
 "nbformat_minor": 5
}
